{
 "cells": [
  {
   "cell_type": "code",
   "execution_count": 2,
   "metadata": {},
   "outputs": [],
   "source": [
    "class MulLayer:\n",
    "  def __init__(self):\n",
    "    self.x = None\n",
    "    self.y = None\n",
    "\n",
    "  def forward(self, x, y):\n",
    "    self.x = x\n",
    "    self.y = y\n",
    "    out = x * y\n",
    "\n",
    "    return out\n",
    "  \n",
    "  def backward(self, dout):\n",
    "    dx = dout * self.y\n",
    "    dy = dout * self.x\n",
    "\n",
    "    return dx, dy"
   ]
  },
  {
   "cell_type": "code",
   "execution_count": 3,
   "metadata": {},
   "outputs": [
    {
     "name": "stdout",
     "output_type": "stream",
     "text": [
      "price is 220.00000000000003\n",
      "dapple, dapple_num, dtax : 2.2 110.00000000000001 200\n"
     ]
    }
   ],
   "source": [
    "apple = 100\n",
    "apple_num = 2\n",
    "tax = 1.1\n",
    "\n",
    "# layer\n",
    "mul_apple_layer = MulLayer()\n",
    "mul_tax_layer = MulLayer()\n",
    "\n",
    "# forward\n",
    "apple_price = mul_apple_layer.forward(apple, apple_num)\n",
    "price = mul_tax_layer.forward(apple_price, tax)\n",
    "\n",
    "print(\"price is \" + str(price))\n",
    "\n",
    "\n",
    "# backward\n",
    "dprice = 1\n",
    "dapple_price, dtax = mul_tax_layer.backward(dprice)\n",
    "dapple, dapple_num = mul_apple_layer.backward(dapple_price)\n",
    "\n",
    "print(\"dapple, dapple_num, dtax : \" + str(dapple), str(dapple_num), str(dtax))\n"
   ]
  },
  {
   "cell_type": "code",
   "execution_count": 4,
   "metadata": {},
   "outputs": [],
   "source": [
    "class AddLayer:\n",
    "  def __init__(self):\n",
    "    pass\n",
    "\n",
    "  def forward(self, x, y):\n",
    "    out = x + y\n",
    "    return out\n",
    "  \n",
    "  def backward(self, dout):\n",
    "    dx = dout * 1\n",
    "    dy = dout * 1\n",
    "    return dx, dy"
   ]
  },
  {
   "cell_type": "code",
   "execution_count": 6,
   "metadata": {},
   "outputs": [
    {
     "name": "stdout",
     "output_type": "stream",
     "text": [
      "715.0000000000001\n",
      "110.00000000000001 2.2 3.3000000000000003 165.0 650\n"
     ]
    }
   ],
   "source": [
    "apple = 100\n",
    "apple_num = 2\n",
    "orange = 150\n",
    "orange_num = 3\n",
    "tax = 1.1\n",
    "\n",
    "# layer\n",
    "mul_apple_layer = MulLayer()\n",
    "mul_orange_layer = MulLayer()\n",
    "add_apple_orange_layer = AddLayer()\n",
    "mul_tax_layer = MulLayer()\n",
    "\n",
    "# forward\n",
    "apple_price = mul_apple_layer.forward(apple, apple_num) #(1)\n",
    "orange_price = mul_orange_layer.forward(orange, orange_num) #(2)\n",
    "all_price = add_apple_orange_layer.forward(apple_price, orange_price) #(3)\n",
    "price = mul_tax_layer.forward(all_price, tax) #(4)\n",
    "\n",
    "# backward\n",
    "dprice = 1\n",
    "dall_price, dtax = mul_tax_layer.backward(dprice) #(4)\n",
    "dapple_price, dorange_price = add_apple_orange_layer.backward(dall_price) #(3)\n",
    "dorange, dorange_num = mul_orange_layer.backward(dorange_price) #(2)\n",
    "dapple, dapple_num = mul_apple_layer.backward(dapple_price) #(1)\n",
    "\n",
    "print(price)\n",
    "print(dapple_num, dapple, dorange, dorange_num, dtax)"
   ]
  },
  {
   "cell_type": "code",
   "execution_count": 7,
   "metadata": {},
   "outputs": [],
   "source": [
    "class Relu:\n",
    "  def __init__(self):\n",
    "    self.mask = None\n",
    "  \n",
    "  def forward(self, x):\n",
    "    self.mask = (x <= 0)\n",
    "    out = x.copy()\n",
    "    out[self.mask] = 0\n",
    "\n",
    "    return out\n",
    "  \n",
    "  def backward(self, dout):\n",
    "    dout[self.mask] = 0\n",
    "    dx = dout\n",
    "\n",
    "    return dx"
   ]
  },
  {
   "cell_type": "code",
   "execution_count": 8,
   "metadata": {},
   "outputs": [
    {
     "name": "stdout",
     "output_type": "stream",
     "text": [
      "[[ 1.  -0.5]\n",
      " [-2.   3. ]]\n",
      "[[False  True]\n",
      " [ True False]]\n"
     ]
    }
   ],
   "source": [
    "import numpy as np\n",
    "\n",
    "x = np.array([[1.0, -0.5], [-2.0, 3.0]])\n",
    "print(x)\n",
    "mask = (x <= 0)\n",
    "print(mask)"
   ]
  },
  {
   "cell_type": "code",
   "execution_count": 9,
   "metadata": {},
   "outputs": [],
   "source": [
    "class Sigmoid:\n",
    "  def __init__(self):\n",
    "    self.out = None\n",
    "  \n",
    "  def forward(self, x):\n",
    "    out = 1 / (1 + np.exp(-x))\n",
    "    self.out = out\n",
    "\n",
    "    return\n",
    "  \n",
    "  def backward(self, dout):\n",
    "    dx = dout * (1.0 - self.out) * self.out\n",
    "\n",
    "    return dx"
   ]
  },
  {
   "cell_type": "code",
   "execution_count": 11,
   "metadata": {},
   "outputs": [
    {
     "name": "stdout",
     "output_type": "stream",
     "text": [
      "(2,)\n",
      "(2, 3)\n",
      "(3,)\n"
     ]
    }
   ],
   "source": [
    "\n",
    "X = np.random.rand(2)\n",
    "W = np.random.rand(2, 3)\n",
    "B = np.random.rand(3)\n",
    "\n",
    "print(X.shape)\n",
    "print(W.shape)\n",
    "print(B.shape)\n",
    "\n",
    "Y = np.dot(X, W) + B"
   ]
  },
  {
   "cell_type": "code",
   "execution_count": 14,
   "metadata": {},
   "outputs": [],
   "source": [
    "class Affine:\n",
    "  def __init__(self, W, b):\n",
    "    self.W = W\n",
    "    self.b = b\n",
    "    self.x = None\n",
    "    self.dW = None\n",
    "    self.db = None\n",
    "  \n",
    "  def forward(self, x):\n",
    "    self.x = x\n",
    "    out = np.dot(x, self.W) + self.b\n",
    "\n",
    "    return out\n",
    "  \n",
    "  def backward(self, dout):\n",
    "    dx = np.dot(dout, self.W.T)\n",
    "    self.dW = np.dot(self.x.T, dout)\n",
    "    self.db = np.sum(dout, axis=0)\n",
    "\n",
    "    return dx"
   ]
  },
  {
   "cell_type": "code",
   "execution_count": 18,
   "metadata": {},
   "outputs": [],
   "source": [
    "# def softmax(a):\n",
    "#   c = np.max(a)\n",
    "#   exp_a = np.exp(a - c) # オーバーフロー対策\n",
    "#   sum_exp_a = np.sum(exp_a)\n",
    "#   y = exp_a / sum_exp_a\n",
    "\n",
    "#   return y\n",
    "\n",
    "def softmax(x):\n",
    "    x = x - np.max(x, axis=-1, keepdims=True)   # オーバーフロー対策\n",
    "    return np.exp(x) / np.sum(np.exp(x), axis=-1, keepdims=True)"
   ]
  },
  {
   "cell_type": "code",
   "execution_count": 16,
   "metadata": {},
   "outputs": [],
   "source": [
    "# def cross_entropy_error(y, t):\n",
    "#   delta = 1e-7\n",
    "\n",
    "#   if y.ndim == 1:\n",
    "#     t = t.reshape(1, t.size)\n",
    "#     y = y.reshape(1, y.size)\n",
    "  \n",
    "#   batch_size = y.shape[0]\n",
    "#   return -np.sum(np.log(y[np.arange(batch_size), t] + delta)) / batch_size\n",
    "\n",
    "\n",
    "def cross_entropy_error(y, t):\n",
    "    if y.ndim == 1:\n",
    "        t = t.reshape(1, t.size)\n",
    "        y = y.reshape(1, y.size)\n",
    "        \n",
    "    # 教師データがone-hot-vectorの場合、正解ラベルのインデックスに変換\n",
    "    if t.size == y.size:\n",
    "        t = t.argmax(axis=1)\n",
    "             \n",
    "    batch_size = y.shape[0]\n",
    "    return -np.sum(np.log(y[np.arange(batch_size), t] + 1e-7)) / batch_size"
   ]
  },
  {
   "cell_type": "code",
   "execution_count": 17,
   "metadata": {},
   "outputs": [],
   "source": [
    "class SoftmaxWithLoss:\n",
    "  def __init__(self):\n",
    "    self.loss = None\n",
    "    self.y = None\n",
    "    self.t = None\n",
    "\n",
    "  def forward(self, x, t):\n",
    "    self.t = t\n",
    "    self.y = softmax(x)\n",
    "    self.loss = cross_entropy_error(self.y, self.t)\n",
    "\n",
    "    return self.loss\n",
    "  \n",
    "  def backward(self, dout=1):\n",
    "    batch_size = self.t.shape[0]\n",
    "    dx = (self.y - self.t) / batch_size\n",
    "\n",
    "    return dx"
   ]
  },
  {
   "cell_type": "code",
   "execution_count": 19,
   "metadata": {},
   "outputs": [],
   "source": [
    "################\n",
    "################"
   ]
  },
  {
   "cell_type": "code",
   "execution_count": 48,
   "metadata": {},
   "outputs": [],
   "source": [
    "import sys, os\n",
    "sys.path.append('../deep-learning-from-scratch-master')\n",
    "import numpy as np\n",
    "from common.layers import *\n",
    "from common.gradient import numerical_gradient\n",
    "from collections import OrderedDict\n",
    "\n",
    "\n",
    "class TwoLayerNet:\n",
    "  \n",
    "  def __init__(self, input_size, hidden_size, output_size, weight_init_std=0.01):\n",
    "    \n",
    "    # 重みの初期化\n",
    "    self.params = {}\n",
    "    self.params[\"W1\"] = weight_init_std * np.random.randn(input_size, hidden_size)\n",
    "    self.params[\"b1\"] = np.zeros(hidden_size)\n",
    "    self.params[\"W2\"] = weight_init_std * np.random.randn(hidden_size, output_size)\n",
    "    self.params[\"b2\"] = np.zeros(output_size)\n",
    "\n",
    "    # レイヤの生成\n",
    "    self.layers = OrderedDict()\n",
    "    self.layers[\"Affine1\"] = Affine(self.params[\"W1\"], self.params[\"b1\"])\n",
    "    self.layers[\"Relu1\"] = Relu()\n",
    "    self.layers[\"Affine2\"] = Affine(self.params[\"W2\"], self.params[\"b2\"])\n",
    "\n",
    "    self.lastLayer = SoftmaxWithLoss()\n",
    "  \n",
    "\n",
    "  def predict(self, x):\n",
    "    for layer in self.layers.values():\n",
    "      x = layer.forward(x)\n",
    "\n",
    "    return x\n",
    "  \n",
    "\n",
    "  # x:入力データ, t:教師データ\n",
    "  def loss(self, x, t):\n",
    "    y = self.predict(x)\n",
    "    return self.lastLayer.forward(y, t)\n",
    "  \n",
    "\n",
    "  def accuracy(self, x, t):\n",
    "    y = self.predict(x)\n",
    "    y = np.argmax(y, axis=1)\n",
    "    if t.ndim != 1 : t = np.argmax(t, axis=1)\n",
    "\n",
    "    accuracy = np.sum(y == t) / float(x.shape[0])\n",
    "    return accuracy\n",
    "  \n",
    "\n",
    "  # x:入力データ, t:教師データ\n",
    "  def numerical_gradient(self, x, t):\n",
    "    loss_W = lambda W: self.loss(x, t)\n",
    "\n",
    "    grads = {}\n",
    "    grads[\"W1\"] = numerical_gradient(loss_W, self.params[\"W1\"])\n",
    "    grads[\"b1\"] = numerical_gradient(loss_W, self.params[\"b1\"])\n",
    "    grads[\"W2\"] = numerical_gradient(loss_W, self.params[\"W2\"])\n",
    "    grads[\"b2\"] = numerical_gradient(loss_W, self.params[\"b2\"])\n",
    "\n",
    "    return grads\n",
    "  \n",
    "\n",
    "  def gradient(self, x, t):\n",
    "    # forward\n",
    "    self.loss(x, t)\n",
    "\n",
    "    # backward\n",
    "    dout = 1\n",
    "    dout = self.lastLayer.backward(dout)\n",
    "\n",
    "    layers = list(self.layers.values())\n",
    "    layers.reverse()\n",
    "    for layer in layers:\n",
    "      dout = layer.backward(dout)\n",
    "    \n",
    "    # 設定\n",
    "    grads = {}\n",
    "    grads[\"W1\"] = self.layers[\"Affine1\"].dW\n",
    "    grads[\"b1\"] = self.layers[\"Affine1\"].db\n",
    "    grads[\"W2\"] = self.layers[\"Affine2\"].dW\n",
    "    grads[\"b2\"] = self.layers[\"Affine2\"].db\n",
    "\n",
    "    return grads"
   ]
  },
  {
   "cell_type": "code",
   "execution_count": 50,
   "metadata": {},
   "outputs": [
    {
     "name": "stdout",
     "output_type": "stream",
     "text": [
      "W1:4.6250275753310505e-10\n",
      "b1:2.9544021514405114e-09\n",
      "W2:4.597855629833272e-09\n",
      "b2:1.4000143137293808e-07\n"
     ]
    }
   ],
   "source": [
    "import sys, os\n",
    "sys.path.append('../deep-learning-from-scratch-master')\n",
    "import numpy as np\n",
    "from dataset.mnist import load_mnist\n",
    "# from ch05.two_layer_net import TwoLayerNet\n",
    "\n",
    "\n",
    "# データの読み込み\n",
    "(x_train, t_train), (x_test, t_test) = load_mnist(normalize=True, one_hot_label=True)\n",
    "\n",
    "network = TwoLayerNet(input_size=784, hidden_size=50, output_size=10)\n",
    "\n",
    "x_batch = x_train[:3]\n",
    "t_batch = t_train[:3]\n",
    "\n",
    "grad_numerical = network.numerical_gradient(x_batch, t_batch)\n",
    "grad_backprop = network.gradient(x_batch, t_batch)\n",
    "\n",
    "\n",
    "# 各重みの絶対誤差の平均を求める\n",
    "for key in grad_numerical.keys():\n",
    "  diff = np.average( np.abs(grad_backprop[key] - grad_numerical[key]) )\n",
    "  print(key + \":\" + str(diff))"
   ]
  },
  {
   "cell_type": "code",
   "execution_count": 51,
   "metadata": {},
   "outputs": [
    {
     "name": "stdout",
     "output_type": "stream",
     "text": [
      "0.10058333333333333 0.0995\n",
      "0.9031833333333333 0.9065\n",
      "0.9239833333333334 0.9274\n",
      "0.9352666666666667 0.9332\n",
      "0.94375 0.9444\n",
      "0.9492666666666667 0.9474\n",
      "0.9551666666666667 0.9545\n",
      "0.96045 0.9573\n",
      "0.96345 0.9609\n",
      "0.9659833333333333 0.9615\n",
      "0.9687333333333333 0.9641\n",
      "0.9714833333333334 0.9642\n",
      "0.97275 0.9662\n",
      "0.9745833333333334 0.9686\n",
      "0.9749 0.9671\n",
      "0.977 0.9696\n",
      "0.9772833333333333 0.9708\n"
     ]
    }
   ],
   "source": [
    "import sys, os\n",
    "sys.path.append('../deep-learning-from-scratch-master')\n",
    "import numpy as np\n",
    "from dataset.mnist import load_mnist\n",
    "# from two_layer_net import Two_LayerNet\n",
    "\n",
    "\n",
    "# データの読み込み\n",
    "(x_train, t_train), (x_test, t_test) = load_mnist(normalize=True, one_hot_label=True)\n",
    "\n",
    "network = TwoLayerNet(input_size=784, hidden_size=50, output_size=10)\n",
    "\n",
    "iters_num = 10000\n",
    "train_size = x_train.shape[0]\n",
    "batch_size = 100\n",
    "learning_rate = 0.1\n",
    "\n",
    "train_loss_list = []\n",
    "train_acc_list = []\n",
    "test_acc_list = []\n",
    "\n",
    "iter_per_epoch = max(train_size / batch_size, 1)\n",
    "\n",
    "\n",
    "for i in range(iters_num):\n",
    "  batch_mask = np.random.choice(train_size, batch_size)\n",
    "  x_batch = x_train[batch_mask]\n",
    "  t_batch = t_train[batch_mask]\n",
    "\n",
    "  # 誤差逆伝播法によって勾配を求める\n",
    "  grad = network.gradient(x_batch, t_batch)\n",
    "\n",
    "  # 更新\n",
    "  for key in ('W1', 'b1', 'W2', 'b2'):\n",
    "    network.params[key] -= learning_rate * grad[key]\n",
    "  \n",
    "  loss = network.loss(x_batch, t_batch)\n",
    "  train_loss_list.append(loss)\n",
    "\n",
    "  if i % iter_per_epoch == 0:\n",
    "    train_acc = network.accuracy(x_train, t_train)\n",
    "    test_acc = network.accuracy(x_test, t_test)\n",
    "    train_acc_list.append(train_acc)\n",
    "    test_acc_list.append(test_acc)\n",
    "    print(train_acc, test_acc)\n"
   ]
  },
  {
   "cell_type": "code",
   "execution_count": null,
   "metadata": {},
   "outputs": [],
   "source": []
  }
 ],
 "metadata": {
  "interpreter": {
   "hash": "fdd7e5b264f800b13577c0cb214b083b77ee4c34a8400492cf459bc113578d90"
  },
  "kernelspec": {
   "display_name": "Python 3.8.8 ('base')",
   "language": "python",
   "name": "python3"
  },
  "language_info": {
   "codemirror_mode": {
    "name": "ipython",
    "version": 3
   },
   "file_extension": ".py",
   "mimetype": "text/x-python",
   "name": "python",
   "nbconvert_exporter": "python",
   "pygments_lexer": "ipython3",
   "version": "3.8.8"
  },
  "orig_nbformat": 4
 },
 "nbformat": 4,
 "nbformat_minor": 2
}
